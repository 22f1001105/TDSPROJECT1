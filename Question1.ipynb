{
  "nbformat": 4,
  "nbformat_minor": 0,
  "metadata": {
    "colab": {
      "provenance": []
    },
    "kernelspec": {
      "name": "python3",
      "display_name": "Python 3"
    },
    "language_info": {
      "name": "python"
    }
  },
  "cells": [
    {
      "cell_type": "code",
      "execution_count": null,
      "metadata": {
        "id": "dmmrvo4edGXo"
      },
      "outputs": [],
      "source": [
        "import pandas as pd\n",
        "\n",
        "df = pd.read_csv('users.csv')\n",
        "\n",
        "top_users = df.sort_values(by='followers', ascending=False).head(5)\n",
        "\n",
        "top_user_logins = ','.join(top_users['login'].tolist())\n",
        "\n",
        "print(\"Top 5 users in Dublin with the highest number of followers:\", top_user_logins)"
      ]
    }
  ]
}