{
  "nbformat": 4,
  "nbformat_minor": 0,
  "metadata": {
    "colab": {
      "provenance": []
    },
    "kernelspec": {
      "name": "python3",
      "display_name": "Python 3"
    },
    "language_info": {
      "name": "python"
    }
  },
  "cells": [
    {
      "cell_type": "code",
      "execution_count": null,
      "metadata": {
        "id": "dmmrvo4edGXo"
      },
      "outputs": [],
      "source": [
        "import pandas as pd\n",
        "\n",
        "repos_df = pd.read_csv('repositories.csv')\n",
        "\n",
        "licenses = repos_df['license_name'].dropna()\n",
        "\n",
        "top_licenses = licenses.value_counts().head(3).index.tolist()\n",
        "\n",
        "top_licenses_result = ','.join(top_licenses)\n",
        "print(f\"The 3 most popular licenses are: {top_licenses_result}\")"
      ]
    }
  ]
}