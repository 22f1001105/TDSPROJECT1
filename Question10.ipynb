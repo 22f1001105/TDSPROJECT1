{
  "nbformat": 4,
  "nbformat_minor": 0,
  "metadata": {
    "colab": {
      "provenance": []
    },
    "kernelspec": {
      "name": "python3",
      "display_name": "Python 3"
    },
    "language_info": {
      "name": "python"
    }
  },
  "cells": [
    {
      "cell_type": "code",
      "execution_count": null,
      "metadata": {
        "id": "dmmrvo4edGXo"
      },
      "outputs": [],
      "source": [
        "import pandas as pd\n",
        "from scipy.stats import linregress\n",
        "\n",
        "users_df = pd.read_csv(\"users.csv\")\n",
        "\n",
        "slope, intercept, r_value, p_value, std_err = linregress(users_df['public_repos'], users_df['followers'])\n",
        "\n",
        "print(f\"{slope:.3f}\")"
      ]
    }
  ]
}