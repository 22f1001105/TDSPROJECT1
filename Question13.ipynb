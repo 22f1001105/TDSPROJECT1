{
  "nbformat": 4,
  "nbformat_minor": 0,
  "metadata": {
    "colab": {
      "provenance": []
    },
    "kernelspec": {
      "name": "python3",
      "display_name": "Python 3"
    },
    "language_info": {
      "name": "python"
    }
  },
  "cells": [
    {
      "cell_type": "code",
      "execution_count": null,
      "metadata": {
        "id": "dmmrvo4edGXo"
      },
      "outputs": [],
      "source": [
        "import pandas as pd\n",
        "import statsmodels.api as sm\n",
        "\n",
        "users_df = pd.read_csv('users.csv')\n",
        "\n",
        "users_df['bio_word_count'] = users_df['bio'].apply(lambda x: len(str(x).split()) if pd.notna(x) else 0)\n",
        "\n",
        "filtered_df = users_df[users_df['bio_word_count'] > 0]\n",
        "\n",
        "X = filtered_df['bio_word_count']\n",
        "y = filtered_df['followers']\n",
        "\n",
        "X = sm.add_constant(X)\n",
        "\n",
        "model = sm.OLS(y, X).fit()\n",
        "\n",
        "slope = model.params['bio_word_count']\n",
        "\n",
        "print(f\"Regression slope of followers on bio word count: {slope:.3f}\")"
      ]
    }
  ]
}