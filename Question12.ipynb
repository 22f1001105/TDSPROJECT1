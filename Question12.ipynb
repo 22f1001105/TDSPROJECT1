{
  "nbformat": 4,
  "nbformat_minor": 0,
  "metadata": {
    "colab": {
      "provenance": []
    },
    "kernelspec": {
      "name": "python3",
      "display_name": "Python 3"
    },
    "language_info": {
      "name": "python"
    }
  },
  "cells": [
    {
      "cell_type": "code",
      "execution_count": null,
      "metadata": {
        "id": "dmmrvo4edGXo"
      },
      "outputs": [],
      "source": [
        "import pandas as pd\n",
        "\n",
        "users_df = pd.read_csv(\"users.csv\")\n",
        "\n",
        "users_df['hireable'] = users_df['hireable'].fillna('false').astype(bool)\n",
        "\n",
        "hireable_users = users_df[users_df['hireable'] == 'true']\n",
        "average_following_hireable = hireable_users['following'].mean() if len(hireable_users) > 0 else 0\n",
        "\n",
        "non_hireable_users = users_df[users_df['hireable'] == False]\n",
        "average_following_non_hireable = non_hireable_users['following'].mean() if len(non_hireable_users) > 0 else 0\n",
        "\n",
        "difference = average_following_hireable - average_following_non_hireable\n",
        "\n",
        "print(f\"{difference:.3f}\")"
      ]
    }
  ]
}