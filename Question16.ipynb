{
  "nbformat": 4,
  "nbformat_minor": 0,
  "metadata": {
    "colab": {
      "provenance": []
    },
    "kernelspec": {
      "name": "python3",
      "display_name": "Python 3"
    },
    "language_info": {
      "name": "python"
    }
  },
  "cells": [
    {
      "cell_type": "code",
      "execution_count": null,
      "metadata": {
        "id": "dmmrvo4edGXo"
      },
      "outputs": [],
      "source": [
        "import pandas as pd\n",
        "from collections import Counter\n",
        "\n",
        "users_df = pd.read_csv('users.csv')\n",
        "\n",
        "surnames = []\n",
        "\n",
        "for name in users_df['name']:\n",
        "    if pd.notna(name):\n",
        "        surname = name.strip().split()[-1]\n",
        "        surnames.append(surname)\n",
        "\n",
        "surname_counts = Counter(surnames)\n",
        "\n",
        "max_count = max(surname_counts.values())\n",
        "\n",
        "most_common_surnames = [surname for surname, count in surname_counts.items() if count == max_count]\n",
        "\n",
        "most_common_surnames.sort()\n",
        "\n",
        "result = ', '.join(most_common_surnames)\n",
        "print(\"Most common surname(s):\", result)"
      ]
    }
  ]
}