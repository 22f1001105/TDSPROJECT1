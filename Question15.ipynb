{
  "nbformat": 4,
  "nbformat_minor": 0,
  "metadata": {
    "colab": {
      "provenance": []
    },
    "kernelspec": {
      "name": "python3",
      "display_name": "Python 3"
    },
    "language_info": {
      "name": "python"
    }
  },
  "cells": [
    {
      "cell_type": "code",
      "execution_count": null,
      "metadata": {
        "id": "dmmrvo4edGXo"
      },
      "outputs": [],
      "source": [
        "import pandas as pd\n",
        "\n",
        "users_df = pd.read_csv(\"users.csv\")\n",
        "\n",
        "users_df['hireable'] = users_df['hireable'].fillna(False).astype(bool)\n",
        "\n",
        "hireable_users = users_df[users_df['hireable'] == True]\n",
        "hireable_with_email = hireable_users['email'].notna().sum()\n",
        "fraction_hireable_with_email = hireable_with_email / len(hireable_users) if len(hireable_users) > 0 else 0\n",
        "\n",
        "non_hireable_users = users_df[users_df['hireable'] == False]\n",
        "non_hireable_with_email = non_hireable_users['email'].notna().sum()\n",
        "fraction_non_hireable_with_email = non_hireable_with_email / len(non_hireable_users) if len(non_hireable_users) > 0 else 0\n",
        "\n",
        "difference = fraction_hireable_with_email - fraction_non_hireable_with_email\n",
        "\n",
        "print(f\"{difference:.3f}\")"
      ]
    }
  ]
}