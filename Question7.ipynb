{
  "nbformat": 4,
  "nbformat_minor": 0,
  "metadata": {
    "colab": {
      "provenance": []
    },
    "kernelspec": {
      "name": "python3",
      "display_name": "Python 3"
    },
    "language_info": {
      "name": "python"
    }
  },
  "cells": [
    {
      "cell_type": "code",
      "execution_count": null,
      "metadata": {
        "id": "dmmrvo4edGXo"
      },
      "outputs": [],
      "source": [
        "import pandas as pd\n",
        "\n",
        "df = pd.read_csv('repositories.csv')\n",
        "\n",
        "average_stars_per_language = df.groupby('language')['stargazers_count'].mean().reset_index()\n",
        "\n",
        "highest_average_language = average_stars_per_language.loc[average_stars_per_language['stargazers_count'].idxmax()]\n",
        "\n",
        "print(f\"Language with the highest average number of stars per repository: {highest_average_language['language']} with an average of {highest_average_language['stargazers_count']:.2f} stars.\")"
      ]
    }
  ]
}