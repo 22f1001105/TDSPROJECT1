{
  "nbformat": 4,
  "nbformat_minor": 0,
  "metadata": {
    "colab": {
      "provenance": []
    },
    "kernelspec": {
      "name": "python3",
      "display_name": "Python 3"
    },
    "language_info": {
      "name": "python"
    }
  },
  "cells": [
    {
      "cell_type": "code",
      "execution_count": null,
      "metadata": {
        "id": "dmmrvo4edGXo"
      },
      "outputs": [],
      "source": [
        "import pandas as pd\n",
        "\n",
        "users_df = pd.read_csv('users.csv')\n",
        "\n",
        "users_df['company'] = users_df['company'].str.strip().str.upper()\n",
        "\n",
        "company_counts = users_df['company'].value_counts()\n",
        "\n",
        "most_common_company = company_counts.idxmax()\n",
        "most_common_count = company_counts.max()\n",
        "\n",
        "result = f\"The majority of developers work at: {most_common_company} with {most_common_count} developers.\"\n",
        "print(result)"
      ]
    }
  ]
}