{
  "nbformat": 4,
  "nbformat_minor": 0,
  "metadata": {
    "colab": {
      "provenance": []
    },
    "kernelspec": {
      "name": "python3",
      "display_name": "Python 3"
    },
    "language_info": {
      "name": "python"
    }
  },
  "cells": [
    {
      "cell_type": "code",
      "execution_count": null,
      "metadata": {
        "id": "dmmrvo4edGXo"
      },
      "outputs": [],
      "source": [
        "import pandas as pd\n",
        "\n",
        "df = pd.read_csv('repositories.csv')\n",
        "\n",
        "df['created_at'] = pd.to_datetime(df['created_at'])\n",
        "\n",
        "new_users = df[df['created_at'] >= '2020-01-01']\n",
        "\n",
        "languages_series = new_users['language'].dropna().str.split(',').explode()\n",
        "\n",
        "popular_languages = languages_series.value_counts()\n",
        "\n",
        "second_most_popular_language = popular_languages.index[1] if len(popular_languages) > 1 else \"Not enough languages found\"\n",
        "\n",
        "print(\"Second most popular programming language among users who joined after 2020:\", second_most_popular_language)"
      ]
    }
  ]
}