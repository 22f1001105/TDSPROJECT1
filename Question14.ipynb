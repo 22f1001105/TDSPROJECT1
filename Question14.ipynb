{
  "nbformat": 4,
  "nbformat_minor": 0,
  "metadata": {
    "colab": {
      "provenance": []
    },
    "kernelspec": {
      "name": "python3",
      "display_name": "Python 3"
    },
    "language_info": {
      "name": "python"
    }
  },
  "cells": [
    {
      "cell_type": "code",
      "execution_count": null,
      "metadata": {
        "id": "dmmrvo4edGXo"
      },
      "outputs": [],
      "source": [
        "import pandas as pd\n",
        "\n",
        "repositories_df = pd.read_csv(\"repositories.csv\")\n",
        "\n",
        "repositories_df['created_at'] = pd.to_datetime(repositories_df['created_at'])\n",
        "\n",
        "weekend_repos = repositories_df[repositories_df['created_at'].dt.dayofweek.isin([5, 6])]\n",
        "\n",
        "top_users = weekend_repos.groupby('login').size().reset_index(name='repo_count')\n",
        "\n",
        "top_users = top_users.sort_values(by='repo_count', ascending=False)\n",
        "\n",
        "top_5_users = top_users.head(5)\n",
        "\n",
        "top_5_logins = ','.join(top_5_users['login'].astype(str))\n",
        "print(top_5_logins)"
      ]
    }
  ]
}