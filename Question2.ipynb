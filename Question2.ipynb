{
  "nbformat": 4,
  "nbformat_minor": 0,
  "metadata": {
    "colab": {
      "provenance": []
    },
    "kernelspec": {
      "name": "python3",
      "display_name": "Python 3"
    },
    "language_info": {
      "name": "python"
    }
  },
  "cells": [
    {
      "cell_type": "code",
      "execution_count": null,
      "metadata": {
        "id": "dmmrvo4edGXo"
      },
      "outputs": [],
      "source": [
        "import pandas as pd\n",
        "\n",
        "users_df = pd.read_csv('users.csv')\n",
        "\n",
        "dublin_users = users_df[users_df['location'].str.contains('Dublin', na=False)]\n",
        "dublin_users['created_at'] = pd.to_datetime(dublin_users['created_at'])\n",
        "\n",
        "earliest_users = dublin_users.nsmallest(5, 'created_at')\n",
        "\n",
        "earliest_logins = earliest_users['login'].tolist()\n",
        "earliest_logins_result = ','.join(earliest_logins)\n",
        "\n",
        "print(f\"The 5 earliest registered users in Dublin are: {earliest_logins_result}\")"
      ]
    }
  ]
}