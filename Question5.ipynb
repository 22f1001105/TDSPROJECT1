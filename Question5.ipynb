{
  "nbformat": 4,
  "nbformat_minor": 0,
  "metadata": {
    "colab": {
      "provenance": []
    },
    "kernelspec": {
      "name": "python3",
      "display_name": "Python 3"
    },
    "language_info": {
      "name": "python"
    }
  },
  "cells": [
    {
      "cell_type": "code",
      "execution_count": null,
      "metadata": {
        "id": "dmmrvo4edGXo"
      },
      "outputs": [],
      "source": [
        "import pandas as pd\n",
        "\n",
        "df = pd.read_csv('repositories.csv')\n",
        "\n",
        "languages_series = df['language'].dropna().str.split(',').explode()\n",
        "\n",
        "popular_languages = languages_series.value_counts().head(1)\n",
        "\n",
        "most_popular_language = popular_languages.index[0] if not popular_languages.empty else \"No languages found\"\n",
        "\n",
        "print(\"Most popular programming language among users in Dublin:\", most_popular_language)"
      ]
    }
  ]
}